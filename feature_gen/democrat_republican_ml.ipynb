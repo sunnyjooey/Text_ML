{
 "cells": [
  {
   "cell_type": "markdown",
   "metadata": {},
   "source": [
    "### Create features "
   ]
  },
  {
   "cell_type": "code",
   "execution_count": 1,
   "metadata": {},
   "outputs": [
    {
     "name": "stderr",
     "output_type": "stream",
     "text": [
      "C:\\Users\\Sun-joo Lee\\AppData\\Local\\Continuum\\anaconda3\\lib\\site-packages\\gensim\\utils.py:1197: UserWarning: detected Windows; aliasing chunkize to chunkize_serial\n",
      "  warnings.warn(\"detected Windows; aliasing chunkize to chunkize_serial\")\n"
     ]
    }
   ],
   "source": [
    "import pandas as pd\n",
    "import nltk\n",
    "import pickle\n",
    "import operator\n",
    "import feature\n",
    "\n",
    "import warnings; warnings.simplefilter('ignore')\n",
    "from IPython.display import display\n",
    "pd.options.display.max_columns = None\n",
    "pd.options.display.max_rows = None\n",
    "pd.set_option('display.float_format', lambda x: '%.0f' % x)"
   ]
  },
  {
   "cell_type": "code",
   "execution_count": 2,
   "metadata": {},
   "outputs": [],
   "source": [
    "# Import processed data \n",
    "# See data_preprocessing folder for details\n",
    "with open('../data_preprocessing/data/svo_df.pkl', 'rb') as f:\n",
    "    df = pickle.load(f)"
   ]
  },
  {
   "cell_type": "code",
   "execution_count": 3,
   "metadata": {},
   "outputs": [],
   "source": [
    "# Import sentiment lexicon\n",
    "# From: https://github.com/zeeeyang/lexicon_rnn/blob/master/lexicons/sspe.lex2\n",
    "ts_lex = {}\n",
    "with open('./data/ts_lex.txt','r',encoding='utf-8') as f:\n",
    "    for line in f:\n",
    "        entry = line.split(' ')\n",
    "        ts_lex[entry[0]] = float(entry[1])"
   ]
  },
  {
   "cell_type": "code",
   "execution_count": 4,
   "metadata": {},
   "outputs": [],
   "source": [
    "d = df.sample(200)"
   ]
  },
  {
   "cell_type": "code",
   "execution_count": null,
   "metadata": {},
   "outputs": [],
   "source": []
  },
  {
   "cell_type": "code",
   "execution_count": null,
   "metadata": {},
   "outputs": [],
   "source": [
    "# define parameters for feature generation\n",
    "proto_word_args = {\n",
    "    'text_col': 'full_text_agg', \n",
    "    'user_id': 'user_id', \n",
    "    'tok_type': 'clean', \n",
    "    'isalpha': True,\n",
    "    'top_k': 100,\n",
    "    'word_count_thresh': 5\n",
    "}\n",
    "\n",
    "hashtag_args = {\n",
    "    'text_col': 'hashtags_agg', \n",
    "    'user_id': 'user_id',\n",
    "    'top_k': 50,\n",
    "    'ht_count_thresh': 3\n",
    "}\n",
    "\n",
    "topic_model_args = {\n",
    "    'text_col': 'clean_text_agg',\n",
    "    'user_id': 'user_id',\n",
    "    'stops': nltk.corpus.stopwords.words('english') + ['rt'],\n",
    "    'stemmer': nltk.stem.snowball.SnowballStemmer('english'), \n",
    "    'lemmer': None\n",
    "}\n",
    "\n",
    "topic_model_params = {\n",
    "    'num_topic': 20, \n",
    "    'max_df': 0.5, \n",
    "    'min_df': 1, \n",
    "    'max_feature': 1000, \n",
    "    'alpha': 0.1, \n",
    "    'eta': 0.1,  \n",
    "    'serialized': None \n",
    "}\n",
    "\n",
    "sent_args = {\n",
    "    'lexicon': ts_lex,\n",
    "    'window': 4,\n",
    "    'count_thresh': 6,\n",
    "    'top_k': 20,\n",
    "    'tok_text_col': 'tokenized_text_agg'\n",
    "    }\n"
   ]
  },
  {
   "cell_type": "code",
   "execution_count": null,
   "metadata": {},
   "outputs": [
    {
     "name": "stdout",
     "output_type": "stream",
     "text": [
      "Took 4 seconds to featurize proto words and hashtags\n",
      "Took 2 seconds to featurize topics\n"
     ]
    }
   ],
   "source": [
    "X_train_ft, X_test_ft, y_train, y_test, obs = feature.featurize(d, 'label', 0.3, proto_word_args=proto_word_args, hashtag_args=hashtag_args, topic_model_args=topic_model_args, topic_model_params=topic_model_params, sent_args=sent_args)"
   ]
  },
  {
   "cell_type": "code",
   "execution_count": null,
   "metadata": {},
   "outputs": [],
   "source": [
    "X_test_ft.shape"
   ]
  },
  {
   "cell_type": "code",
   "execution_count": null,
   "metadata": {},
   "outputs": [],
   "source": [
    "y_train.shape"
   ]
  },
  {
   "cell_type": "code",
   "execution_count": null,
   "metadata": {},
   "outputs": [],
   "source": [
    "y_test.shape"
   ]
  },
  {
   "cell_type": "code",
   "execution_count": null,
   "metadata": {},
   "outputs": [],
   "source": [
    "import time"
   ]
  },
  {
   "cell_type": "markdown",
   "metadata": {},
   "source": [
    "### Classifiers"
   ]
  },
  {
   "cell_type": "code",
   "execution_count": null,
   "metadata": {},
   "outputs": [],
   "source": [
    "from sklearn.ensemble import RandomForestClassifier, GradientBoostingClassifier, AdaBoostClassifier, BaggingClassifier\n",
    "from sklearn.naive_bayes import GaussianNB\n",
    "from sklearn.linear_model import LogisticRegression\n",
    "from sklearn.svm import SVC\n",
    "from sklearn.tree import DecisionTreeClassifier"
   ]
  },
  {
   "cell_type": "code",
   "execution_count": null,
   "metadata": {},
   "outputs": [],
   "source": [
    "clfs = {'Random Forest': RandomForestClassifier(n_estimators=100, n_jobs=-1)\n",
    "#         'Gradient Boosting': GradientBoostingClassifier(n_estimators=100, learning_rate=0.05, subsample=0.5, max_depth=5),\n",
    "#         'AdaBoost': AdaBoostClassifier(DecisionTreeClassifier(max_depth=1), algorithm=\"SAMME\", n_estimators=100),\n",
    "#         'Bagging, DT': BaggingClassifier(DecisionTreeClassifier(max_depth=1), max_samples=0.5, max_features=0.5),\n",
    "#         'Naive Bayes': GaussianNB(),        \n",
    "#         'Logistic Reg': LogisticRegression(penalty='l1', C=1e5),\n",
    "#         'SVM': SVC(kernel='rbf', probability=True, random_state=0),\n",
    "#         'Decision Tree': DecisionTreeClassifier()\n",
    "            }"
   ]
  },
  {
   "cell_type": "code",
   "execution_count": null,
   "metadata": {},
   "outputs": [],
   "source": [
    "def basic_loop(clfs, X_train, y_train, X_test, y_test):\n",
    "    for key, clf in clfs.items():\n",
    "        print(key)\n",
    "        start_time = time.time()\n",
    "        clf_fit = clf.fit(X_train, y_train)\n",
    "        print('Score: ', clf_fit.score(X_test, y_test))\n",
    "        print(\"--- %s minutes ---\" % round((time.time() - start_time)/60, 2))\n",
    "        print()"
   ]
  },
  {
   "cell_type": "code",
   "execution_count": null,
   "metadata": {},
   "outputs": [],
   "source": [
    "basic_loop(clfs, X_train_ft, y_train, X_test_ft, y_test)"
   ]
  },
  {
   "cell_type": "code",
   "execution_count": null,
   "metadata": {},
   "outputs": [],
   "source": []
  },
  {
   "cell_type": "code",
   "execution_count": null,
   "metadata": {},
   "outputs": [],
   "source": []
  }
 ],
 "metadata": {
  "kernelspec": {
   "display_name": "Python 3",
   "language": "python",
   "name": "python3"
  },
  "language_info": {
   "codemirror_mode": {
    "name": "ipython",
    "version": 3
   },
   "file_extension": ".py",
   "mimetype": "text/x-python",
   "name": "python",
   "nbconvert_exporter": "python",
   "pygments_lexer": "ipython3",
   "version": "3.6.4"
  }
 },
 "nbformat": 4,
 "nbformat_minor": 2
}
