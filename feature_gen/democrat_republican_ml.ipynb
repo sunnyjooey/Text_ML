{
 "cells": [
  {
   "cell_type": "markdown",
   "metadata": {},
   "source": [
    "### Create features "
   ]
  },
  {
   "cell_type": "code",
   "execution_count": 1,
   "metadata": {},
   "outputs": [],
   "source": [
    "import pandas as pd\n",
    "import pickle"
   ]
  },
  {
   "cell_type": "code",
   "execution_count": 2,
   "metadata": {},
   "outputs": [],
   "source": [
    "from IPython.display import display\n",
    "pd.options.display.max_columns = None\n",
    "pd.options.display.max_rows = None\n",
    "pd.set_option('display.float_format', lambda x: '%.0f' % x)"
   ]
  },
  {
   "cell_type": "code",
   "execution_count": 3,
   "metadata": {},
   "outputs": [],
   "source": [
    "with open('../data_preprocessing/data/svo_df.pkl', 'rb') as f:\n",
    "    df = pickle.load(f)"
   ]
  },
  {
   "cell_type": "code",
   "execution_count": 6,
   "metadata": {},
   "outputs": [],
   "source": [
    "# define parameters for feature generation\n",
    "proto_word_args = {\n",
    "    'text_col': 'full_text_agg', \n",
    "    'user_id': 'user_id', \n",
    "    'tok_type': 'clean', \n",
    "    'isalpha': True,\n",
    "    'top_k': 100,\n",
    "    'word_count_thresh': 5\n",
    "}\n",
    "\n",
    "hashtag_args = {\n",
    "    'text_col': 'hashtags_agg', \n",
    "    'user_id': 'user_id',\n",
    "    'top_k': 50,\n",
    "    'ht_count_thresh': 3\n",
    "}\n",
    "\n",
    "topic_model_args = {\n",
    "    'text_col': 'clean_text_agg',\n",
    "    'user_id': 'user_id',\n",
    "    'stops': nltk.corpus.stopwords.words('english') + ['rt'],\n",
    "    'stemmer': nltk.stem.snowball.SnowballStemmer('english'), \n",
    "    'lemmer': None\n",
    "}\n",
    "\n",
    "topic_model_params = {\n",
    "    'num_topic': 20, \n",
    "    'max_df': 0.5, \n",
    "    'min_df': 1, \n",
    "    'max_feature': 1000, \n",
    "    'alpha': 0.1, \n",
    "    'eta': 0.1,  \n",
    "    'serialized': None \n",
    "}"
   ]
  },
  {
   "cell_type": "code",
   "execution_count": 7,
   "metadata": {},
   "outputs": [
    {
     "name": "stderr",
     "output_type": "stream",
     "text": [
      "C:\\Users\\Sun-joo Lee\\Git_Projects\\Twitter\\twitter_networks\\feature.py:13: SettingWithCopyWarning: \n",
      "A value is trying to be set on a copy of a slice from a DataFrame.\n",
      "Try using .loc[row_indexer,col_indexer] = value instead\n",
      "\n",
      "See the caveats in the documentation: http://pandas.pydata.org/pandas-docs/stable/indexing.html#indexing-view-versus-copy\n",
      "  X_train[label] = y_train\n",
      "C:\\Users\\Sun-joo Lee\\Git_Projects\\Twitter\\twitter_networks\\topics.py:11: SettingWithCopyWarning: \n",
      "A value is trying to be set on a copy of a slice from a DataFrame.\n",
      "Try using .loc[row_indexer,col_indexer] = value instead\n",
      "\n",
      "See the caveats in the documentation: http://pandas.pydata.org/pandas-docs/stable/indexing.html#indexing-view-versus-copy\n",
      "  df['tokenized_text'] = df[text_col].apply(lambda x: nltk.word_tokenize(x))\n",
      "C:\\Users\\Sun-joo Lee\\Git_Projects\\Twitter\\twitter_networks\\topics.py:12: SettingWithCopyWarning: \n",
      "A value is trying to be set on a copy of a slice from a DataFrame.\n",
      "Try using .loc[row_indexer,col_indexer] = value instead\n",
      "\n",
      "See the caveats in the documentation: http://pandas.pydata.org/pandas-docs/stable/indexing.html#indexing-view-versus-copy\n",
      "  df['normalized_tokens'] = df['tokenized_text'].apply(lambda x: normalizeTokens(x, stopwordLst=stop_words, stemmer=stemmer, lemmer=lemmer))\n",
      "C:\\Users\\Sun-joo Lee\\Git_Projects\\Twitter\\twitter_networks\\topics.py:64: SettingWithCopyWarning: \n",
      "A value is trying to be set on a copy of a slice from a DataFrame.\n",
      "Try using .loc[row_indexer,col_indexer] = value instead\n",
      "\n",
      "See the caveats in the documentation: http://pandas.pydata.org/pandas-docs/stable/indexing.html#indexing-view-versus-copy\n",
      "  df[reduced_token_str] = df[norm_col].apply(lambda x: dropMissing(x, TFVectorizer.vocabulary_.keys()))\n",
      "C:\\Users\\Sun-joo Lee\\Git_Projects\\Twitter\\twitter_networks\\topics.py:97: SettingWithCopyWarning: \n",
      "A value is trying to be set on a copy of a slice from a DataFrame.\n",
      "Try using .loc[row_indexer,col_indexer] = value instead\n",
      "\n",
      "See the caveats in the documentation: http://pandas.pydata.org/pandas-docs/stable/indexing.html#indexing-view-versus-copy\n",
      "  df[reduced_token_str] = df[norm_col].apply(lambda x: dropMissing(x, TFVectorizer.vocabulary_.keys()))\n"
     ]
    }
   ],
   "source": [
    "X_train_ft, X_test_ft, y_train, y_test = feature.featurize(aggregated, 'label', proto_word_args, hashtag_args, topic_model_args, topic_model_params, 0.2, random_state=None, topic_words=False)"
   ]
  },
  {
   "cell_type": "markdown",
   "metadata": {},
   "source": [
    "### Classifiers"
   ]
  },
  {
   "cell_type": "code",
   "execution_count": 31,
   "metadata": {},
   "outputs": [],
   "source": [
    "from sklearn.ensemble import RandomForestClassifier, GradientBoostingClassifier, AdaBoostClassifier, BaggingClassifier\n",
    "from sklearn.naive_bayes import GaussianNB\n",
    "from sklearn.linear_model import LogisticRegression\n",
    "from sklearn.svm import SVC\n",
    "from sklearn.tree import DecisionTreeClassifier"
   ]
  },
  {
   "cell_type": "code",
   "execution_count": 35,
   "metadata": {},
   "outputs": [],
   "source": [
    "clfs = {'Random Forest': RandomForestClassifier(n_estimators=100, n_jobs=-1),\n",
    "        'Gradient Boosting': GradientBoostingClassifier(n_estimators=100, learning_rate=0.05, subsample=0.5, max_depth=5),\n",
    "        'AdaBoost': AdaBoostClassifier(DecisionTreeClassifier(max_depth=1), algorithm=\"SAMME\", n_estimators=100),\n",
    "        'Bagging, DT': BaggingClassifier(DecisionTreeClassifier(max_depth=1), max_samples=0.5, max_features=0.5),\n",
    "        'Naive Bayes': GaussianNB(),        \n",
    "        'Logistic Reg': LogisticRegression(penalty='l1', C=1e5),\n",
    "        'SVM': SVC(kernel='rbf', probability=True, random_state=0),\n",
    "        'Decision Tree': DecisionTreeClassifier()\n",
    "            }"
   ]
  },
  {
   "cell_type": "code",
   "execution_count": 41,
   "metadata": {},
   "outputs": [],
   "source": [
    "def basic_loop(clfs, X_train, y_train, X_test, y_test):\n",
    "    for key, clf in clfs.items():\n",
    "        print(key)\n",
    "        start_time = time.time()\n",
    "        clf_fit = clf.fit(X_train, y_train)\n",
    "        print('Score: ', clf_fit.score(X_test, y_test))\n",
    "        print(\"--- %s minutes ---\" % round((time.time() - start_time)/60, 2))\n",
    "        print()"
   ]
  },
  {
   "cell_type": "code",
   "execution_count": 42,
   "metadata": {},
   "outputs": [
    {
     "name": "stdout",
     "output_type": "stream",
     "text": [
      "Random Forest\n",
      "Score:  0.8782346685572492\n",
      "--- 0.08 minutes ---\n",
      "\n",
      "Gradient Boosting\n",
      "Score:  0.8566111308046792\n",
      "--- 0.69 minutes ---\n",
      "\n",
      "AdaBoost\n",
      "Score:  0.84774902516838\n",
      "--- 0.27 minutes ---\n",
      "\n",
      "Bagging, DT\n",
      "Score:  0.848103509393832\n",
      "--- 0.02 minutes ---\n",
      "\n",
      "Naive Bayes\n",
      "Score:  0.5233959588798298\n",
      "--- 0.01 minutes ---\n",
      "\n",
      "Logistic Reg\n",
      "Score:  0.8459766040411202\n",
      "--- 2.78 minutes ---\n",
      "\n",
      "SVM\n",
      "Score:  0.5235732009925558\n",
      "--- 92.96 minutes ---\n",
      "\n",
      "Decision Tree\n",
      "Score:  0.8186813186813187\n",
      "--- 0.02 minutes ---\n",
      "\n"
     ]
    }
   ],
   "source": [
    "basic_loop(clfs, X_train_ft, y_train, X_test_ft, y_test)"
   ]
  },
  {
   "cell_type": "code",
   "execution_count": 23,
   "metadata": {},
   "outputs": [
    {
     "data": {
      "text/plain": [
       "0.47660404112017013"
      ]
     },
     "execution_count": 23,
     "metadata": {},
     "output_type": "execute_result"
    }
   ],
   "source": [
    "clf = Perceptron().fit(X_train_ft, y_train)\n",
    "clf.score(X_test_ft, y_test) "
   ]
  },
  {
   "cell_type": "code",
   "execution_count": 26,
   "metadata": {},
   "outputs": [
    {
     "data": {
      "text/plain": [
       "0.5235732009925558"
      ]
     },
     "execution_count": 26,
     "metadata": {},
     "output_type": "execute_result"
    }
   ],
   "source": [
    "clf =SVC().fit(X_train_ft, y_train)\n",
    "clf.score(X_test_ft, y_test) "
   ]
  },
  {
   "cell_type": "code",
   "execution_count": 2,
   "metadata": {},
   "outputs": [],
   "source": [
    "a = pd.read_csv(\"X_train_ft.csv\")"
   ]
  },
  {
   "cell_type": "code",
   "execution_count": 8,
   "metadata": {},
   "outputs": [
    {
     "data": {
      "text/plain": [
       "323"
      ]
     },
     "execution_count": 8,
     "metadata": {},
     "output_type": "execute_result"
    }
   ],
   "source": [
    "len(b.columns)"
   ]
  },
  {
   "cell_type": "code",
   "execution_count": null,
   "metadata": {},
   "outputs": [],
   "source": []
  }
 ],
 "metadata": {
  "kernelspec": {
   "display_name": "Python 3",
   "language": "python",
   "name": "python3"
  },
  "language_info": {
   "codemirror_mode": {
    "name": "ipython",
    "version": 3
   },
   "file_extension": ".py",
   "mimetype": "text/x-python",
   "name": "python",
   "nbconvert_exporter": "python",
   "pygments_lexer": "ipython3",
   "version": "3.6.4"
  }
 },
 "nbformat": 4,
 "nbformat_minor": 2
}
