{
 "cells": [
  {
   "cell_type": "markdown",
   "metadata": {},
   "source": [
    "### Create features "
   ]
  },
  {
   "cell_type": "code",
   "execution_count": 1,
   "metadata": {},
   "outputs": [],
   "source": [
    "import pandas as pd\n",
    "import pickle\n",
    "import operator"
   ]
  },
  {
   "cell_type": "code",
   "execution_count": 2,
   "metadata": {},
   "outputs": [],
   "source": [
    "from IPython.display import display\n",
    "pd.options.display.max_columns = None\n",
    "pd.options.display.max_rows = None\n",
    "pd.set_option('display.float_format', lambda x: '%.0f' % x)"
   ]
  },
  {
   "cell_type": "code",
   "execution_count": 3,
   "metadata": {},
   "outputs": [],
   "source": [
    "with open('../data_preprocessing/data/svo_df.pkl', 'rb') as f:\n",
    "    df = pickle.load(f)"
   ]
  },
  {
   "cell_type": "code",
   "execution_count": 4,
   "metadata": {},
   "outputs": [],
   "source": [
    "ts_lex = {}\n",
    "with open('./data/ts_lex.txt','r',encoding='utf-8') as f:\n",
    "    for line in f:\n",
    "        entry = line.split(' ')\n",
    "        ts_lex[entry[0]] = float(entry[1])"
   ]
  },
  {
   "cell_type": "code",
   "execution_count": 5,
   "metadata": {},
   "outputs": [],
   "source": [
    "def svo_sentiments(df, lex, label_col, window, count_thresh):\n",
    "    \n",
    "    # get sentiment around svo (aggregate and count of tweets)\n",
    "    svo_sentiments = {\n",
    "        'subject': {},\n",
    "        'object': {}\n",
    "    }\n",
    "    \n",
    "    labels = df[label_col].unique()\n",
    "    for label in labels:\n",
    "        for key in svo_sentiments.keys():\n",
    "            svo_sentiments[key][label] = {}\n",
    "       \n",
    "        # all svos for one label\n",
    "        label_svos = df[df[label_col] == label].reset_index()\n",
    "        for i in range(label_svos.shape[0]):\n",
    "            user_svo_list = label_svos.loc[i,'svos']\n",
    "            for tweet_svo_list in user_svo_list:\n",
    "                for svo in tweet_svo_list:\n",
    "                    s = svo[0]\n",
    "                    o = svo[2]\n",
    "                    # checking s and o in context\n",
    "                    tokenized_text_lists = label_svos.loc[i,'tokenized_text_agg']\n",
    "                    for tokenized_text in tokenized_text_lists:\n",
    "                        \n",
    "                        # for 's'ubjects\n",
    "                        if s != '' and '/' not in s:\n",
    "                            if s in tokenized_text:\n",
    "                                s_index = tokenized_text.index(s)\n",
    "                               \n",
    "                                # get words in window\n",
    "                                lower_bound = max(0, s_index-window)\n",
    "                                upper_bound = min(len(tokenized_text), s_index+1+window)\n",
    "                                pre_words = tokenized_text[lower_bound : s_index]\n",
    "                                post_words = tokenized_text[s_index+1: upper_bound]\n",
    "                                window_words = pre_words + post_words\n",
    "                                \n",
    "                                # tally up sentiment score for s \n",
    "                                sentiment_total = 0\n",
    "                                sentiment_count = 0\n",
    "                                for word in window_words:\n",
    "                                    if word in lex:\n",
    "                                        sentiment_total += lex[word]\n",
    "                                        sentiment_count += 1\n",
    "                                \n",
    "                                # build dictionary\n",
    "                                if sentiment_count != 0:\n",
    "                                    avg_sentiment = sentiment_total/sentiment_count\n",
    "                                    if s in svo_sentiments['subject'][label]:\n",
    "                                        svo_sentiments['subject'][label][s]['total_sentim'] += avg_sentiment\n",
    "                                        svo_sentiments['subject'][label][s]['count'] += 1    \n",
    "                                    else:\n",
    "                                        svo_sentiments['subject'][label][s] = {'total_sentim': avg_sentiment, 'count': 1}\n",
    "                                else:\n",
    "                                    continue\n",
    "                        \n",
    "                        # for 'o'bjects\n",
    "                        if o != '' and '/' not in o:\n",
    "                            if o in tokenized_text:\n",
    "                                o_index = tokenized_text.index(o)\n",
    "                               \n",
    "                                # get words in window\n",
    "                                lower_bound = max(0, o_index-window)\n",
    "                                upper_bound = min(len(tokenized_text), o_index+1+window)\n",
    "                                pre_words = tokenized_text[lower_bound : o_index]\n",
    "                                post_words = tokenized_text[o_index+1: upper_bound]\n",
    "                                window_words = pre_words + post_words\n",
    "                                \n",
    "                                # tally up score for s \n",
    "                                sentiment_total = 0\n",
    "                                sentiment_count = 0\n",
    "                                for word in window_words:\n",
    "                                    if word in lex:\n",
    "                                        sentiment_total += lex[word]\n",
    "                                        sentiment_count += 1\n",
    "                                \n",
    "                                if sentiment_count != 0:\n",
    "                                    avg_sentiment = sentiment_total/sentiment_count\n",
    "                                    if o in svo_sentiments['object'][label]:\n",
    "                                        svo_sentiments['object'][label][o]['total_sentim'] += avg_sentiment\n",
    "                                        svo_sentiments['object'][label][o]['count'] += 1    \n",
    "                                    else:\n",
    "                                        svo_sentiments['object'][label][o] = {'total_sentim': avg_sentiment, 'count': 1}\n",
    "                                else:\n",
    "                                    continue\n",
    "    \n",
    "    # get average sentiment (if count above threshold) per label, per word \n",
    "    sentiments = {\n",
    "        'subject': {},\n",
    "        'object': {}\n",
    "    }\n",
    "    for label in labels:\n",
    "        for key in sentiments.keys():\n",
    "            sentiments[key][label] = {}\n",
    "            \n",
    "    for sv in svo_sentiments.keys():\n",
    "        for label_key in svo_sentiments[sv]:\n",
    "            for word_key in svo_sentiments[sv][label_key]:\n",
    "                if svo_sentiments[sv][label_key][word_key]['count'] >= count_thresh:\n",
    "                    sentiments[sv][label_key][word_key] = svo_sentiments[sv][label_key][word_key]['total_sentim'] / svo_sentiments[sv][label_key][word_key]['count']\n",
    "\n",
    "    return sentiments, svo_sentiments"
   ]
  },
  {
   "cell_type": "code",
   "execution_count": 6,
   "metadata": {},
   "outputs": [],
   "source": [
    "s, ss =svo_sentiments(df, ts_lex, 'label', 4, 6)"
   ]
  },
  {
   "cell_type": "code",
   "execution_count": 7,
   "metadata": {},
   "outputs": [],
   "source": [
    "def most_pos_neg_sents(sent_dict, k):\n",
    "    k_sentiment_dict = {}\n",
    "    for sv in sent_dict.keys():\n",
    "        for label in sent_dict[sv].keys():\n",
    "            if label not in k_sentiment_dict:\n",
    "                k_sentiment_dict[label] = {}\n",
    "            \n",
    "            # sort words by sentiment value\n",
    "            sorted_list = sorted(sent_dict[sv][label].items(), key=operator.itemgetter(1))\n",
    "            sorted_list.reverse()\n",
    "            \n",
    "            # get k most positive\n",
    "            kpos_list = sorted_list[:k] \n",
    "            kpos_list = [pair[0] for pair in kpos_list]\n",
    "            if 'POSITIVE' in k_sentiment_dict[label].keys():\n",
    "                k_sentiment_dict[label]['POSITIVE'] += kpos_list\n",
    "            else:\n",
    "                k_sentiment_dict[label]['POSITIVE'] = kpos_list\n",
    "            \n",
    "            # get k most negative words\n",
    "            kneg_list = sorted_list[len(sorted_list)-k :]\n",
    "            kneg_list = [pair[0] for pair in kneg_list]\n",
    "            if 'NEGATIVE' in k_sentiment_dict[label]:\n",
    "                k_sentiment_dict[label]['NEGATIVE'] += kneg_list\n",
    "            else:\n",
    "                k_sentiment_dict[label]['NEGATIVE'] = kneg_list\n",
    "    \n",
    "    # find unique and common words between labels (only works for 2 labels!)\n",
    "    labels = list(k_sentiment_dict.keys())\n",
    "    sentiments = ['POSITIVE', 'NEGATIVE']\n",
    "    \n",
    "    separate_sentiment = {}\n",
    "    for sentiment in sentiments: \n",
    "        label1_pos_words = k_sentiment_dict[labels[0]][sentiment]\n",
    "        label2_pos_words = k_sentiment_dict[labels[1]][sentiment]\n",
    "        label1_pos_unique = [word for word in label1_pos_words if word not in label2_pos_words]\n",
    "        label2_pos_unique = [word for word in label2_pos_words if word not in label1_pos_words]\n",
    "        common_pos = [word for word in label1_pos_words if word in label2_pos_words]\n",
    "\n",
    "        if labels[0] not in separate_sentiment:\n",
    "            separate_sentiment[labels[0]] = {}\n",
    "        separate_sentiment[labels[0]][sentiment] = label1_pos_unique\n",
    "        if labels[1] not in separate_sentiment:\n",
    "            separate_sentiment[labels[1]] = {}\n",
    "        separate_sentiment[labels[1]][sentiment] = label2_pos_unique\n",
    "        separate_sentiment[sentiment + '_COMMON'] = common_pos       \n",
    "    return separate_sentiment#k_sentiment_dict"
   ]
  },
  {
   "cell_type": "code",
   "execution_count": 8,
   "metadata": {},
   "outputs": [],
   "source": [
    "p=most_pos_neg_sents(s, 20)"
   ]
  },
  {
   "cell_type": "code",
   "execution_count": 9,
   "metadata": {},
   "outputs": [
    {
     "data": {
      "text/plain": [
       "{'NEGATIVE_COMMON': ['protesters', 'group', 'control'],\n",
       " 'POSITIVE_COMMON': ['thanks', ']', 'movement', 'conscience', 'lady'],\n",
       " 'd': {'NEGATIVE': ['democracy',\n",
       "   'signs',\n",
       "   'followers',\n",
       "   'house',\n",
       "   'speaker',\n",
       "   'source',\n",
       "   'seats',\n",
       "   'rights',\n",
       "   'leaks',\n",
       "   '.facebook',\n",
       "   'heads',\n",
       "   'bowl',\n",
       "   'barack',\n",
       "   'pa',\n",
       "   'criminals',\n",
       "   'warming',\n",
       "   '.realdonaldtrump',\n",
       "   'davidwohl',\n",
       "   'fact',\n",
       "   'philosophy',\n",
       "   'senator',\n",
       "   'economy',\n",
       "   'center',\n",
       "   'themselves',\n",
       "   'violence',\n",
       "   'workers',\n",
       "   'law',\n",
       "   'press',\n",
       "   'professionals',\n",
       "   'row',\n",
       "   'email',\n",
       "   'role',\n",
       "   'crisis',\n",
       "   'opposition',\n",
       "   'morning',\n",
       "   'the…',\n",
       "   'teenager'],\n",
       "  'POSITIVE': ['ddlovato',\n",
       "   'poll',\n",
       "   '.flotus',\n",
       "   'reform',\n",
       "   'train',\n",
       "   'fact',\n",
       "   'leak',\n",
       "   'silverman',\n",
       "   'kaine',\n",
       "   'call',\n",
       "   'week',\n",
       "   'chelsea',\n",
       "   'problem',\n",
       "   'watch',\n",
       "   'granholm',\n",
       "   'tonight',\n",
       "   'moment',\n",
       "   'her',\n",
       "   'you…',\n",
       "   'bloomberg',\n",
       "   'topics',\n",
       "   'tonight.',\n",
       "   'fun',\n",
       "   'us—it',\n",
       "   'kick-ass',\n",
       "   'yorker',\n",
       "   'friend',\n",
       "   'boo',\n",
       "   'sign',\n",
       "   'family',\n",
       "   'border',\n",
       "   'choice',\n",
       "   'message',\n",
       "   'dress',\n",
       "   'maga']},\n",
       " 'r': {'NEGATIVE': ['everything',\n",
       "   'crime',\n",
       "   'gingrich',\n",
       "   'campaign',\n",
       "   'men',\n",
       "   'mike_pence',\n",
       "   'scottbaio',\n",
       "   'person',\n",
       "   'lies',\n",
       "   'boy',\n",
       "   '.theeconomist',\n",
       "   'ohio',\n",
       "   'flag',\n",
       "   'use',\n",
       "   'experts',\n",
       "   'vanjones68',\n",
       "   'trumps',\n",
       "   'iran',\n",
       "   'rate',\n",
       "   'course',\n",
       "   'businesses',\n",
       "   'journalists',\n",
       "   'rally',\n",
       "   'attacks',\n",
       "   'animals',\n",
       "   'funding',\n",
       "   'checkers',\n",
       "   'h…',\n",
       "   'refugees',\n",
       "   'history',\n",
       "   'chat',\n",
       "   'blacks',\n",
       "   'racism',\n",
       "   'surgery',\n",
       "   'lights',\n",
       "   'porn'],\n",
       "  'POSITIVE': ['+',\n",
       "   'demeanor',\n",
       "   'mongols',\n",
       "   'michelleobama',\n",
       "   'trump2016',\n",
       "   'please',\n",
       "   'hell',\n",
       "   'walker',\n",
       "   'https…',\n",
       "   'chris',\n",
       "   'looks',\n",
       "   \"'i\",\n",
       "   'usa',\n",
       "   'rnc2016',\n",
       "   'thiel',\n",
       "   'drjillstein',\n",
       "   'pledge',\n",
       "   'world',\n",
       "   'natives',\n",
       "   'chris',\n",
       "   'champion',\n",
       "   'fan',\n",
       "   'event',\n",
       "   'fightback',\n",
       "   'rt',\n",
       "   'republican',\n",
       "   'american',\n",
       "   'ally',\n",
       "   'clown',\n",
       "   'honor',\n",
       "   'leader',\n",
       "   'york',\n",
       "   '!',\n",
       "   'wife',\n",
       "   'side']}}"
      ]
     },
     "execution_count": 9,
     "metadata": {},
     "output_type": "execute_result"
    }
   ],
   "source": [
    "p"
   ]
  },
  {
   "cell_type": "code",
   "execution_count": 33,
   "metadata": {},
   "outputs": [],
   "source": [
    "def featurize_sentiments(df, sent_dict, label_col, tok_text_col, lex, window):\n",
    "    labels = df[label_col].unique()\n",
    "    \n",
    "    sent_features = []\n",
    "    for label in labels:\n",
    "        sent_features += sent_dict[label]['NEGATIVE']\n",
    "        sent_features += sent_dict[label]['POSITIVE']\n",
    "    for i in range(df.shape[0]):\n",
    "        tokenized_text_lists = df.loc[i,'tokenized_text_agg']\n",
    "        i_sent_dict = {}\n",
    "        for tokenized_text in tokenized_text_lists:\n",
    "            for sent in sent_features:\n",
    "                if sent in tokenized_text:\n",
    "                    sent_index = tokenized_text.index(sent)\n",
    "                    # get words in window\n",
    "                    lower_bound = max(0, sent_index-window)\n",
    "                    upper_bound = min(len(tokenized_text), sent_index+1+window)\n",
    "                    pre_words = tokenized_text[lower_bound : sent_index]\n",
    "                    post_words = tokenized_text[sent_index+1 : upper_bound]\n",
    "                    window_words = pre_words + post_words\n",
    "                    # tally up score for s \n",
    "                    sentiment_total = 0\n",
    "                    sentiment_count = 0\n",
    "                    for word in window_words:\n",
    "                        if word in lex:\n",
    "                            sentiment_total += lex[word]\n",
    "                            sentiment_count += 1\n",
    "                    if sentiment_count != 0:\n",
    "                        avg_sentiment = sentiment_total/sentiment_count\n",
    "                        if 'sent_' + sent in i_sent_dict:\n",
    "                            i_sent_dict['sent_' + sent]['avg'] += avg_sentiment\n",
    "                            i_sent_dict['sent_' + sent]['count'] +=  1\n",
    "                        else:\n",
    "                            i_sent_dict['sent_' + sent] = {'avg': avg_sentiment, 'count': 1}                   \n",
    "        for sent_key in i_sent_dict.keys():\n",
    "            df.loc[i, sent_key] = i_sent_dict[sent_key]['avg'] / i_sent_dict[sent_key]['count']\n",
    "        df.fillna(0, inplace=True)\n",
    "    return df"
   ]
  },
  {
   "cell_type": "code",
   "execution_count": 34,
   "metadata": {},
   "outputs": [
    {
     "name": "stderr",
     "output_type": "stream",
     "text": [
      "C:\\Users\\Sun-joo Lee\\AppData\\Local\\Continuum\\anaconda3\\lib\\site-packages\\pandas\\core\\indexing.py:357: SettingWithCopyWarning: \n",
      "A value is trying to be set on a copy of a slice from a DataFrame.\n",
      "Try using .loc[row_indexer,col_indexer] = value instead\n",
      "\n",
      "See the caveats in the documentation: http://pandas.pydata.org/pandas-docs/stable/indexing.html#indexing-view-versus-copy\n",
      "  self.obj[key] = _infer_fill_value(value)\n",
      "C:\\Users\\Sun-joo Lee\\AppData\\Local\\Continuum\\anaconda3\\lib\\site-packages\\pandas\\core\\indexing.py:537: SettingWithCopyWarning: \n",
      "A value is trying to be set on a copy of a slice from a DataFrame.\n",
      "Try using .loc[row_indexer,col_indexer] = value instead\n",
      "\n",
      "See the caveats in the documentation: http://pandas.pydata.org/pandas-docs/stable/indexing.html#indexing-view-versus-copy\n",
      "  self.obj[item] = s\n",
      "C:\\Users\\Sun-joo Lee\\AppData\\Local\\Continuum\\anaconda3\\lib\\site-packages\\pandas\\core\\frame.py:3035: SettingWithCopyWarning: \n",
      "A value is trying to be set on a copy of a slice from a DataFrame\n",
      "\n",
      "See the caveats in the documentation: http://pandas.pydata.org/pandas-docs/stable/indexing.html#indexing-view-versus-copy\n",
      "  downcast=downcast, **kwargs)\n"
     ]
    }
   ],
   "source": [
    "featurize_sentiments(df, p, 'label', 'tokenized_text_agg', ts_lex, 4)"
   ]
  },
  {
   "cell_type": "code",
   "execution_count": null,
   "metadata": {},
   "outputs": [],
   "source": []
  },
  {
   "cell_type": "code",
   "execution_count": null,
   "metadata": {},
   "outputs": [],
   "source": []
  },
  {
   "cell_type": "code",
   "execution_count": null,
   "metadata": {},
   "outputs": [],
   "source": []
  },
  {
   "cell_type": "code",
   "execution_count": null,
   "metadata": {},
   "outputs": [],
   "source": []
  },
  {
   "cell_type": "code",
   "execution_count": null,
   "metadata": {},
   "outputs": [],
   "source": []
  },
  {
   "cell_type": "code",
   "execution_count": null,
   "metadata": {},
   "outputs": [],
   "source": []
  },
  {
   "cell_type": "code",
   "execution_count": null,
   "metadata": {},
   "outputs": [],
   "source": []
  },
  {
   "cell_type": "code",
   "execution_count": null,
   "metadata": {},
   "outputs": [],
   "source": []
  },
  {
   "cell_type": "code",
   "execution_count": null,
   "metadata": {},
   "outputs": [],
   "source": []
  },
  {
   "cell_type": "code",
   "execution_count": 6,
   "metadata": {},
   "outputs": [],
   "source": [
    "# define parameters for feature generation\n",
    "proto_word_args = {\n",
    "    'text_col': 'full_text_agg', \n",
    "    'user_id': 'user_id', \n",
    "    'tok_type': 'clean', \n",
    "    'isalpha': True,\n",
    "    'top_k': 100,\n",
    "    'word_count_thresh': 5\n",
    "}\n",
    "\n",
    "hashtag_args = {\n",
    "    'text_col': 'hashtags_agg', \n",
    "    'user_id': 'user_id',\n",
    "    'top_k': 50,\n",
    "    'ht_count_thresh': 3\n",
    "}\n",
    "\n",
    "topic_model_args = {\n",
    "    'text_col': 'clean_text_agg',\n",
    "    'user_id': 'user_id',\n",
    "    'stops': nltk.corpus.stopwords.words('english') + ['rt'],\n",
    "    'stemmer': nltk.stem.snowball.SnowballStemmer('english'), \n",
    "    'lemmer': None\n",
    "}\n",
    "\n",
    "topic_model_params = {\n",
    "    'num_topic': 20, \n",
    "    'max_df': 0.5, \n",
    "    'min_df': 1, \n",
    "    'max_feature': 1000, \n",
    "    'alpha': 0.1, \n",
    "    'eta': 0.1,  \n",
    "    'serialized': None \n",
    "}"
   ]
  },
  {
   "cell_type": "code",
   "execution_count": 7,
   "metadata": {},
   "outputs": [
    {
     "name": "stderr",
     "output_type": "stream",
     "text": [
      "C:\\Users\\Sun-joo Lee\\Git_Projects\\Twitter\\twitter_networks\\feature.py:13: SettingWithCopyWarning: \n",
      "A value is trying to be set on a copy of a slice from a DataFrame.\n",
      "Try using .loc[row_indexer,col_indexer] = value instead\n",
      "\n",
      "See the caveats in the documentation: http://pandas.pydata.org/pandas-docs/stable/indexing.html#indexing-view-versus-copy\n",
      "  X_train[label] = y_train\n",
      "C:\\Users\\Sun-joo Lee\\Git_Projects\\Twitter\\twitter_networks\\topics.py:11: SettingWithCopyWarning: \n",
      "A value is trying to be set on a copy of a slice from a DataFrame.\n",
      "Try using .loc[row_indexer,col_indexer] = value instead\n",
      "\n",
      "See the caveats in the documentation: http://pandas.pydata.org/pandas-docs/stable/indexing.html#indexing-view-versus-copy\n",
      "  df['tokenized_text'] = df[text_col].apply(lambda x: nltk.word_tokenize(x))\n",
      "C:\\Users\\Sun-joo Lee\\Git_Projects\\Twitter\\twitter_networks\\topics.py:12: SettingWithCopyWarning: \n",
      "A value is trying to be set on a copy of a slice from a DataFrame.\n",
      "Try using .loc[row_indexer,col_indexer] = value instead\n",
      "\n",
      "See the caveats in the documentation: http://pandas.pydata.org/pandas-docs/stable/indexing.html#indexing-view-versus-copy\n",
      "  df['normalized_tokens'] = df['tokenized_text'].apply(lambda x: normalizeTokens(x, stopwordLst=stop_words, stemmer=stemmer, lemmer=lemmer))\n",
      "C:\\Users\\Sun-joo Lee\\Git_Projects\\Twitter\\twitter_networks\\topics.py:64: SettingWithCopyWarning: \n",
      "A value is trying to be set on a copy of a slice from a DataFrame.\n",
      "Try using .loc[row_indexer,col_indexer] = value instead\n",
      "\n",
      "See the caveats in the documentation: http://pandas.pydata.org/pandas-docs/stable/indexing.html#indexing-view-versus-copy\n",
      "  df[reduced_token_str] = df[norm_col].apply(lambda x: dropMissing(x, TFVectorizer.vocabulary_.keys()))\n",
      "C:\\Users\\Sun-joo Lee\\Git_Projects\\Twitter\\twitter_networks\\topics.py:97: SettingWithCopyWarning: \n",
      "A value is trying to be set on a copy of a slice from a DataFrame.\n",
      "Try using .loc[row_indexer,col_indexer] = value instead\n",
      "\n",
      "See the caveats in the documentation: http://pandas.pydata.org/pandas-docs/stable/indexing.html#indexing-view-versus-copy\n",
      "  df[reduced_token_str] = df[norm_col].apply(lambda x: dropMissing(x, TFVectorizer.vocabulary_.keys()))\n"
     ]
    }
   ],
   "source": [
    "X_train_ft, X_test_ft, y_train, y_test = feature.featurize(aggregated, 'label', proto_word_args, hashtag_args, topic_model_args, topic_model_params, 0.2, random_state=None, topic_words=False)"
   ]
  },
  {
   "cell_type": "markdown",
   "metadata": {},
   "source": [
    "### Classifiers"
   ]
  },
  {
   "cell_type": "code",
   "execution_count": 31,
   "metadata": {},
   "outputs": [],
   "source": [
    "from sklearn.ensemble import RandomForestClassifier, GradientBoostingClassifier, AdaBoostClassifier, BaggingClassifier\n",
    "from sklearn.naive_bayes import GaussianNB\n",
    "from sklearn.linear_model import LogisticRegression\n",
    "from sklearn.svm import SVC\n",
    "from sklearn.tree import DecisionTreeClassifier"
   ]
  },
  {
   "cell_type": "code",
   "execution_count": 35,
   "metadata": {},
   "outputs": [],
   "source": [
    "clfs = {'Random Forest': RandomForestClassifier(n_estimators=100, n_jobs=-1),\n",
    "        'Gradient Boosting': GradientBoostingClassifier(n_estimators=100, learning_rate=0.05, subsample=0.5, max_depth=5),\n",
    "        'AdaBoost': AdaBoostClassifier(DecisionTreeClassifier(max_depth=1), algorithm=\"SAMME\", n_estimators=100),\n",
    "        'Bagging, DT': BaggingClassifier(DecisionTreeClassifier(max_depth=1), max_samples=0.5, max_features=0.5),\n",
    "        'Naive Bayes': GaussianNB(),        \n",
    "        'Logistic Reg': LogisticRegression(penalty='l1', C=1e5),\n",
    "        'SVM': SVC(kernel='rbf', probability=True, random_state=0),\n",
    "        'Decision Tree': DecisionTreeClassifier()\n",
    "            }"
   ]
  },
  {
   "cell_type": "code",
   "execution_count": 41,
   "metadata": {},
   "outputs": [],
   "source": [
    "def basic_loop(clfs, X_train, y_train, X_test, y_test):\n",
    "    for key, clf in clfs.items():\n",
    "        print(key)\n",
    "        start_time = time.time()\n",
    "        clf_fit = clf.fit(X_train, y_train)\n",
    "        print('Score: ', clf_fit.score(X_test, y_test))\n",
    "        print(\"--- %s minutes ---\" % round((time.time() - start_time)/60, 2))\n",
    "        print()"
   ]
  },
  {
   "cell_type": "code",
   "execution_count": 42,
   "metadata": {},
   "outputs": [
    {
     "name": "stdout",
     "output_type": "stream",
     "text": [
      "Random Forest\n",
      "Score:  0.8782346685572492\n",
      "--- 0.08 minutes ---\n",
      "\n",
      "Gradient Boosting\n",
      "Score:  0.8566111308046792\n",
      "--- 0.69 minutes ---\n",
      "\n",
      "AdaBoost\n",
      "Score:  0.84774902516838\n",
      "--- 0.27 minutes ---\n",
      "\n",
      "Bagging, DT\n",
      "Score:  0.848103509393832\n",
      "--- 0.02 minutes ---\n",
      "\n",
      "Naive Bayes\n",
      "Score:  0.5233959588798298\n",
      "--- 0.01 minutes ---\n",
      "\n",
      "Logistic Reg\n",
      "Score:  0.8459766040411202\n",
      "--- 2.78 minutes ---\n",
      "\n",
      "SVM\n",
      "Score:  0.5235732009925558\n",
      "--- 92.96 minutes ---\n",
      "\n",
      "Decision Tree\n",
      "Score:  0.8186813186813187\n",
      "--- 0.02 minutes ---\n",
      "\n"
     ]
    }
   ],
   "source": [
    "basic_loop(clfs, X_train_ft, y_train, X_test_ft, y_test)"
   ]
  },
  {
   "cell_type": "code",
   "execution_count": 23,
   "metadata": {},
   "outputs": [
    {
     "data": {
      "text/plain": [
       "0.47660404112017013"
      ]
     },
     "execution_count": 23,
     "metadata": {},
     "output_type": "execute_result"
    }
   ],
   "source": [
    "clf = Perceptron().fit(X_train_ft, y_train)\n",
    "clf.score(X_test_ft, y_test) "
   ]
  },
  {
   "cell_type": "code",
   "execution_count": 26,
   "metadata": {},
   "outputs": [
    {
     "data": {
      "text/plain": [
       "0.5235732009925558"
      ]
     },
     "execution_count": 26,
     "metadata": {},
     "output_type": "execute_result"
    }
   ],
   "source": [
    "clf =SVC().fit(X_train_ft, y_train)\n",
    "clf.score(X_test_ft, y_test) "
   ]
  },
  {
   "cell_type": "code",
   "execution_count": 2,
   "metadata": {},
   "outputs": [],
   "source": [
    "a = pd.read_csv(\"X_train_ft.csv\")"
   ]
  },
  {
   "cell_type": "code",
   "execution_count": 8,
   "metadata": {},
   "outputs": [
    {
     "data": {
      "text/plain": [
       "323"
      ]
     },
     "execution_count": 8,
     "metadata": {},
     "output_type": "execute_result"
    }
   ],
   "source": [
    "len(b.columns)"
   ]
  },
  {
   "cell_type": "code",
   "execution_count": null,
   "metadata": {},
   "outputs": [],
   "source": []
  }
 ],
 "metadata": {
  "kernelspec": {
   "display_name": "Python 3",
   "language": "python",
   "name": "python3"
  },
  "language_info": {
   "codemirror_mode": {
    "name": "ipython",
    "version": 3
   },
   "file_extension": ".py",
   "mimetype": "text/x-python",
   "name": "python",
   "nbconvert_exporter": "python",
   "pygments_lexer": "ipython3",
   "version": "3.6.4"
  }
 },
 "nbformat": 4,
 "nbformat_minor": 2
}
