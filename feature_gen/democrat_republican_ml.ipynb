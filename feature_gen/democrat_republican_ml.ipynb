{
 "cells": [
  {
   "cell_type": "markdown",
   "metadata": {},
   "source": [
    "## Creating features "
   ]
  },
  {
   "cell_type": "code",
   "execution_count": 1,
   "metadata": {},
   "outputs": [
    {
     "name": "stderr",
     "output_type": "stream",
     "text": [
      "C:\\Users\\Sun-joo Lee\\AppData\\Local\\Continuum\\anaconda3\\lib\\site-packages\\gensim\\utils.py:1197: UserWarning: detected Windows; aliasing chunkize to chunkize_serial\n",
      "  warnings.warn(\"detected Windows; aliasing chunkize to chunkize_serial\")\n"
     ]
    }
   ],
   "source": [
    "import pandas as pd\n",
    "import nltk\n",
    "import pickle\n",
    "import operator\n",
    "import feature\n",
    "\n",
    "import warnings; warnings.simplefilter('ignore')\n",
    "from IPython.display import display\n",
    "pd.options.display.max_columns = None\n",
    "pd.options.display.max_rows = None\n",
    "pd.set_option('display.float_format', lambda x: '%.0f' % x)"
   ]
  },
  {
   "cell_type": "code",
   "execution_count": 2,
   "metadata": {},
   "outputs": [],
   "source": [
    "# Import processed data: see data_preprocessing folder for details\n",
    "with open('../data_preprocessing/data/svo_df.pkl', 'rb') as f:\n",
    "    df = pickle.load(f)"
   ]
  },
  {
   "cell_type": "code",
   "execution_count": 3,
   "metadata": {},
   "outputs": [],
   "source": [
    "# Import sentiment lexicon, from: https://github.com/zeeeyang/lexicon_rnn/blob/master/lexicons/sspe.lex2\n",
    "ts_lex = {}\n",
    "with open('./data/ts_lex.txt','r',encoding='utf-8') as f:\n",
    "    for line in f:\n",
    "        entry = line.split(' ')\n",
    "        ts_lex[entry[0]] = float(entry[1])"
   ]
  },
  {
   "cell_type": "code",
   "execution_count": 4,
   "metadata": {},
   "outputs": [],
   "source": [
    "df = df.sample(200)"
   ]
  },
  {
   "cell_type": "markdown",
   "metadata": {},
   "source": [
    "### Proto words and hashtags"
   ]
  },
  {
   "cell_type": "code",
   "execution_count": 11,
   "metadata": {},
   "outputs": [],
   "source": [
    "proto_word_args_1 = {\n",
    "    'text_col': 'full_text_agg', \n",
    "    'tok_type': 'clean', \n",
    "    'isalpha': True,\n",
    "    'top_k': 100,\n",
    "    'word_count_thresh': 5\n",
    "}\n",
    "\n",
    "proto_word_args_2 = {\n",
    "    'text_col': 'full_text_agg', \n",
    "    'tok_type': 'clean', \n",
    "    'isalpha': True,\n",
    "    'top_k': 300,\n",
    "    'word_count_thresh': 5\n",
    "}\n",
    "\n",
    "hashtag_args_1 = {\n",
    "    'text_col': 'hashtags_agg', \n",
    "    'top_k': 50,\n",
    "    'ht_count_thresh': 3 \n",
    "}\n",
    "\n",
    "hashtag_args_2 = {\n",
    "    'text_col': 'hashtags_agg', \n",
    "    'top_k': 100,\n",
    "    'ht_count_thresh': 3 \n",
    "}"
   ]
  },
  {
   "cell_type": "code",
   "execution_count": 8,
   "metadata": {},
   "outputs": [
    {
     "name": "stdout",
     "output_type": "stream",
     "text": [
      "Took 0 seconds to featurize proto words and hashtags\n"
     ]
    }
   ],
   "source": [
    "X_train_ft, X_test_ft, y_train, y_test, obj = feature.featurize(df, 'label', 'user_id', 0.3, proto_word_args=proto_word_args_1, hashtag_args=hashtag_args_1, topic_model_args=None, topic_model_params=None, sent_args=None)"
   ]
  },
  {
   "cell_type": "code",
   "execution_count": 6,
   "metadata": {},
   "outputs": [],
   "source": [
    "X_train_ft.to_pickle('../classifications/data/proto_small/X_train_ft.pkl')\n",
    "X_test_ft.to_pickle('../classifications/data/proto_small/X_test_ft.pkl')\n",
    "y_train.to_pickle('../classifications/data/proto_small/y_train.pkl')\n",
    "y_test.to_pickle('../classifications/data/proto_small/y_test.pkl')\n",
    "pickle.dump(obj, open('../classifications/data/proto_small/obj.pkl', 'wb'))"
   ]
  },
  {
   "cell_type": "code",
   "execution_count": 14,
   "metadata": {},
   "outputs": [
    {
     "name": "stdout",
     "output_type": "stream",
     "text": [
      "Took 0 seconds to featurize proto words and hashtags\n"
     ]
    }
   ],
   "source": [
    "X_train_ft, X_test_ft, y_train, y_test, obj = feature.featurize(df, 'label', 'user_id', 0.3, proto_word_args=proto_word_args_2, hashtag_args=hashtag_args_2, topic_model_args=None, topic_model_params=None, sent_args=None)"
   ]
  },
  {
   "cell_type": "code",
   "execution_count": null,
   "metadata": {},
   "outputs": [],
   "source": [
    "X_train_ft.to_pickle('../classifications/data/proto_large/X_train_ft.pkl')\n",
    "X_test_ft.to_pickle('../classifications/data/proto_large/X_test_ft.pkl')\n",
    "y_train.to_pickle('../classifications/data/proto_large/y_train.pkl')\n",
    "y_test.to_pickle('../classifications/data/proto_large/y_test.pkl')\n",
    "pickle.dump(obj, open('../classifications/data/proto_large/obj.pkl', 'wb'))"
   ]
  },
  {
   "cell_type": "markdown",
   "metadata": {},
   "source": [
    "### Topic Modeling"
   ]
  },
  {
   "cell_type": "code",
   "execution_count": 12,
   "metadata": {},
   "outputs": [],
   "source": [
    "topic_model_args = {\n",
    "    'text_col': 'clean_text_agg',\n",
    "    'stops': nltk.corpus.stopwords.words('english') + ['rt'],\n",
    "    'stemmer': nltk.stem.snowball.SnowballStemmer('english'), \n",
    "    'lemmer': None\n",
    "}\n",
    "\n",
    "topic_model_params_1 = {\n",
    "    'num_topic': 50, \n",
    "    'max_df': 0.5, \n",
    "    'min_df': 1, \n",
    "    'max_feature': 1000, \n",
    "    'alpha': 0.1, \n",
    "    'eta': 0.1,  \n",
    "    'serialized': None \n",
    "}\n",
    "\n",
    "topic_model_params_2 = {\n",
    "    'num_topic': 100, \n",
    "    'max_df': 0.5, \n",
    "    'min_df': 1, \n",
    "    'max_feature': 1000, \n",
    "    'alpha': 0.1, \n",
    "    'eta': 0.1,  \n",
    "    'serialized': None \n",
    "}"
   ]
  },
  {
   "cell_type": "code",
   "execution_count": 16,
   "metadata": {},
   "outputs": [
    {
     "name": "stdout",
     "output_type": "stream",
     "text": [
      "Took 0 seconds to featurize topics\n"
     ]
    }
   ],
   "source": [
    "X_train_ft, X_test_ft, y_train, y_test, obj = feature.featurize(df, 'label', 'user_id', 0.3, proto_word_args=None, hashtag_args=None, topic_model_args=topic_model_args, topic_model_params=topic_model_params_1, sent_args=None)"
   ]
  },
  {
   "cell_type": "code",
   "execution_count": null,
   "metadata": {},
   "outputs": [],
   "source": [
    "X_train_ft.to_pickle('../classifications/data/topic_small/X_train_ft.pkl')\n",
    "X_test_ft.to_pickle('../classifications/data/topic_small/X_test_ft.pkl')\n",
    "y_train.to_pickle('../classifications/data/topic_small/y_train.pkl')\n",
    "y_test.to_pickle('../classifications/data/topic_small/y_test.pkl')\n",
    "pickle.dump(obj, open('../classifications/data/topic_small/obj.pkl', 'wb'))"
   ]
  },
  {
   "cell_type": "code",
   "execution_count": 17,
   "metadata": {},
   "outputs": [
    {
     "name": "stdout",
     "output_type": "stream",
     "text": [
      "Took 0 seconds to featurize topics\n"
     ]
    }
   ],
   "source": [
    "X_train_ft, X_test_ft, y_train, y_test, obj = feature.featurize(df, 'label', 'user_id', 0.3, proto_word_args=None, hashtag_args=None, topic_model_args=topic_model_args, topic_model_params=topic_model_params_2, sent_args=None)"
   ]
  },
  {
   "cell_type": "code",
   "execution_count": null,
   "metadata": {},
   "outputs": [],
   "source": [
    "X_train_ft.to_pickle('../classifications/data/topic_large/X_train_ft.pkl')\n",
    "X_test_ft.to_pickle('../classifications/data/topic_large/X_test_ft.pkl')\n",
    "y_train.to_pickle('../classifications/data/topic_large/y_train.pkl')\n",
    "y_test.to_pickle('../classifications/data/topic_large/y_test.pkl')\n",
    "pickle.dump(obj, open('../classifications/data/topic_large/obj.pkl', 'wb'))"
   ]
  },
  {
   "cell_type": "markdown",
   "metadata": {},
   "source": [
    "### Sentiments"
   ]
  },
  {
   "cell_type": "code",
   "execution_count": 5,
   "metadata": {},
   "outputs": [],
   "source": [
    "sent_args_1 = {\n",
    "    'lexicon': ts_lex,\n",
    "    'window': 4,\n",
    "    'count_thresh': 6,\n",
    "    'top_k': 20,\n",
    "    'tok_text_col': 'tokenized_text_agg'\n",
    "    }\n",
    "\n",
    "sent_args_2 = {\n",
    "    'lexicon': ts_lex,\n",
    "    'window': 4,\n",
    "    'count_thresh': 6,\n",
    "    'top_k': 50,\n",
    "    'tok_text_col': 'tokenized_text_agg'\n",
    "    }"
   ]
  },
  {
   "cell_type": "code",
   "execution_count": 6,
   "metadata": {},
   "outputs": [
    {
     "name": "stdout",
     "output_type": "stream",
     "text": [
      "Took 1 seconds to featurize sentiment words\n"
     ]
    }
   ],
   "source": [
    "X_train_ft, X_test_ft, y_train, y_test, obj = feature.featurize(df, 'label', 'user_id', 0.3, proto_word_args=None, hashtag_args=None, topic_model_args=None, topic_model_params=None, sent_args=sent_args_1)"
   ]
  },
  {
   "cell_type": "code",
   "execution_count": null,
   "metadata": {},
   "outputs": [],
   "source": [
    "X_train_ft.to_pickle('../classifications/data/sentim_small/X_train_ft.pkl')\n",
    "X_test_ft.to_pickle('../classifications/data/sentim_small/X_test_ft.pkl')\n",
    "y_train.to_pickle('../classifications/data/sentim_small/y_train.pkl')\n",
    "y_test.to_pickle('../classifications/data/sentim_small/y_test.pkl')\n",
    "pickle.dump(obj, open('../classifications/data/sentim_small/obj.pkl', 'wb'))"
   ]
  },
  {
   "cell_type": "code",
   "execution_count": 9,
   "metadata": {},
   "outputs": [
    {
     "name": "stdout",
     "output_type": "stream",
     "text": [
      "Took 2 seconds to featurize sentiment words\n"
     ]
    }
   ],
   "source": [
    "X_train_ft, X_test_ft, y_train, y_test, obj = feature.featurize(df, 'label', 'user_id', 0.3, proto_word_args=None, hashtag_args=None, topic_model_args=None, topic_model_params=None, sent_args=sent_args_2)"
   ]
  },
  {
   "cell_type": "code",
   "execution_count": null,
   "metadata": {},
   "outputs": [],
   "source": [
    "X_train_ft.to_pickle('../classifications/data/sentim_large/X_train_ft.pkl')\n",
    "X_test_ft.to_pickle('../classifications/data/sentim_large/X_test_ft.pkl')\n",
    "y_train.to_pickle('../classifications/data/sentim_large/y_train.pkl')\n",
    "y_test.to_pickle('../classifications/data/sentim_large/y_test.pkl')\n",
    "pickle.dump(obj, open('../classifications/data/sentim_large/obj.pkl', 'wb'))"
   ]
  },
  {
   "cell_type": "markdown",
   "metadata": {},
   "source": [
    "### All features"
   ]
  },
  {
   "cell_type": "code",
   "execution_count": 13,
   "metadata": {},
   "outputs": [
    {
     "name": "stdout",
     "output_type": "stream",
     "text": [
      "Took 8 seconds to featurize proto words and hashtags\n",
      "Took 1 seconds to featurize topics\n",
      "Took 1 seconds to featurize sentiment words\n"
     ]
    }
   ],
   "source": [
    "##### REDO THIS WITH BEST ARGS ######\n",
    "X_train_ft, X_test_ft, y_train, y_test, obj = feature.featurize(df, 'label', 'user_id', 0.3, proto_word_args=proto_word_args_1, hashtag_args=hashtag_args_1, topic_model_args=topic_model_args, topic_model_params=topic_model_params_1, sent_args=sent_args_1)"
   ]
  },
  {
   "cell_type": "code",
   "execution_count": null,
   "metadata": {},
   "outputs": [],
   "source": [
    "X_train_ft.to_pickle('../classifications/data/all_features/X_train_ft.pkl')\n",
    "X_test_ft.to_pickle('../classifications/data/all_features/X_test_ft.pkl')\n",
    "y_train.to_pickle('../classifications/data/all_features/y_train.pkl')\n",
    "y_test.to_pickle('../classifications/data/all_features/y_test.pkl')\n",
    "pickle.dump(obj, open('../classifications/data/all_features/obj.pkl', 'wb'))"
   ]
  },
  {
   "cell_type": "code",
   "execution_count": 31,
   "metadata": {},
   "outputs": [
    {
     "data": {
      "text/plain": [
       "[589604992,\n",
       " 625943690,\n",
       " 552527556,\n",
       " 1957120296,\n",
       " 710148907788062700,\n",
       " 704296663,\n",
       " 344379707,\n",
       " 993951428,\n",
       " 16187539]"
      ]
     },
     "execution_count": 31,
     "metadata": {},
     "output_type": "execute_result"
    }
   ],
   "source": [
    "dup"
   ]
  }
 ],
 "metadata": {
  "kernelspec": {
   "display_name": "Python 3",
   "language": "python",
   "name": "python3"
  },
  "language_info": {
   "codemirror_mode": {
    "name": "ipython",
    "version": 3
   },
   "file_extension": ".py",
   "mimetype": "text/x-python",
   "name": "python",
   "nbconvert_exporter": "python",
   "pygments_lexer": "ipython3",
   "version": "3.6.4"
  }
 },
 "nbformat": 4,
 "nbformat_minor": 2
}
