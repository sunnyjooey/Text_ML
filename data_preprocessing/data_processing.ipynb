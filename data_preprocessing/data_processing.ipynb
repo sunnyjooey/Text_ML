{
 "cells": [
  {
   "cell_type": "markdown",
   "metadata": {},
   "source": [
    "### Steps for data preparation"
   ]
  },
  {
   "cell_type": "code",
   "execution_count": 1,
   "metadata": {},
   "outputs": [],
   "source": [
    "import pandas as pd\n",
    "import pickle\n",
    "import os"
   ]
  },
  {
   "cell_type": "code",
   "execution_count": 12,
   "metadata": {},
   "outputs": [],
   "source": [
    "# process and aggregate data\n",
    "processed = process.process_text([\"data/dem/dem_tweets_sam.txt\",\"data/rep/rep_tweets_sam.txt\"], ['d','r'], truncate=True)\n",
    "aggregated = process.aggregate_by_user(processed, 'user_id', ['full_text', 'clean_text'], ['tokenized_text'], ['to_users','hashtags','urls'])\n",
    "\n",
    "# pickle the data\n",
    "with open('data/aggregated.pkl', 'wb') as f:\n",
    "    pickle.dump(aggregated, f)"
   ]
  },
  {
   "cell_type": "code",
   "execution_count": null,
   "metadata": {},
   "outputs": [],
   "source": [
    "\"\"\"\n",
    "Parse tweets into parts-of-speach (subject-verb-object) using parallel processes in AWS.\n",
    "Use script `parallel_processing.py`, which creates numerous pickles.\n",
    "\"\"\""
   ]
  },
  {
   "cell_type": "code",
   "execution_count": 13,
   "metadata": {},
   "outputs": [],
   "source": [
    "# revive and concatenate pickled dataframes\n",
    "df = pd.DataFrame()\n",
    "for filename in os.listdir('./data/pickled_svos'):\n",
    "    with open('./data/pickled_svos/' + filename, 'rb') as f:\n",
    "        l = pickle.load(f)\n",
    "        df = pd.concat([df, l], ignore_index=True)"
   ]
  },
  {
   "cell_type": "code",
   "execution_count": 16,
   "metadata": {},
   "outputs": [],
   "source": [
    "# pickle the final data\n",
    "with open('data/svo_df.pkl', 'wb') as f:\n",
    "    pickle.dump(df, f)"
   ]
  },
  {
   "cell_type": "code",
   "execution_count": null,
   "metadata": {},
   "outputs": [],
   "source": []
  }
 ],
 "metadata": {
  "kernelspec": {
   "display_name": "Python 3",
   "language": "python",
   "name": "python3"
  },
  "language_info": {
   "codemirror_mode": {
    "name": "ipython",
    "version": 3
   },
   "file_extension": ".py",
   "mimetype": "text/x-python",
   "name": "python",
   "nbconvert_exporter": "python",
   "pygments_lexer": "ipython3",
   "version": "3.6.4"
  }
 },
 "nbformat": 4,
 "nbformat_minor": 2
}
