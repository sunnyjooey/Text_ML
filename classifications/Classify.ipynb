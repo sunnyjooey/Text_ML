{
 "cells": [
  {
   "cell_type": "markdown",
   "metadata": {},
   "source": [
    "### Classifications"
   ]
  },
  {
   "cell_type": "code",
   "execution_count": 10,
   "metadata": {},
   "outputs": [],
   "source": [
    "import pandas as pd\n",
    "import pickle\n",
    "import time\n",
    "import proto\n",
    "\n",
    "from sklearn.ensemble import RandomForestClassifier, GradientBoostingClassifier, AdaBoostClassifier, BaggingClassifier\n",
    "from sklearn.naive_bayes import GaussianNB\n",
    "from sklearn.linear_model import LogisticRegression\n",
    "from sklearn.svm import SVC\n",
    "from sklearn.tree import DecisionTreeClassifier"
   ]
  },
  {
   "cell_type": "code",
   "execution_count": 83,
   "metadata": {},
   "outputs": [],
   "source": [
    "'''\n",
    "feat_types = {\n",
    "    'Proto-Words/HT, Small': 'proto_small', \n",
    "    'Proto-Words/HT, Large': 'proto_large', \n",
    "    'Topics, Small': 'topic_small', \n",
    "    'Topics, Large': 'topic_large', \n",
    "    'Sentiments, Small': 'sentim_small',\n",
    "    'Sentiments, Large': 'sentim_large',\n",
    "    'All, Best': 'all_features'}\n",
    "'''\n",
    "feat_types = {\n",
    "    'Topics, Small': 'topic_small', \n",
    "    'Topics, Large': 'topic_large', \n",
    "    'Sentiments, Small': 'sentim_small'\n",
    "    }\n",
    "\n",
    "clfs = {#'Random Forest': RandomForestClassifier(n_estimators=100, n_jobs=-1),\n",
    "        #'Gradient Boosting': GradientBoostingClassifier(n_estimators=100, learning_rate=0.05, subsample=0.5, max_depth=5),\n",
    "        #'AdaBoost, DT': AdaBoostClassifier(DecisionTreeClassifier(max_depth=1), algorithm=\"SAMME\", n_estimators=100),\n",
    "        #'Bagging, DT': BaggingClassifier(DecisionTreeClassifier(max_depth=1), max_samples=0.5, max_features=0.5),     \n",
    "        'Logistic Reg 0': LogisticRegression(),\n",
    "        'Logistic Reg 1': LogisticRegression(penalty='l1'),\n",
    "        'Logistic Reg 2': LogisticRegression(penalty='l2'),\n",
    "        'Logistic Reg 3': LogisticRegression(C=1e5),\n",
    "        'Logistic Reg 4': LogisticRegression(C=.5),\n",
    "        'Logistic Reg 5': LogisticRegression(penalty='l1', C=1e5),\n",
    "        'Logistic Reg 6': LogisticRegression(penalty='l2', C=1e5),\n",
    "        'Logistic Reg 7': LogisticRegression(penalty='l1', C=.5),\n",
    "        'Logistic Reg 8': LogisticRegression(penalty='l2', C=.5)\n",
    "            }"
   ]
  },
  {
   "cell_type": "code",
   "execution_count": 84,
   "metadata": {},
   "outputs": [],
   "source": [
    "def run_models(feat_types, clfs):\n",
    "    for feat_key, feat_val in feat_types.items():\n",
    "        X_train = pd.read_pickle('./data/{}/X_train_ft.pkl'.format(feat_val))\n",
    "        X_test = pd.read_pickle('./data/{}/X_test_ft.pkl'.format(feat_val))\n",
    "        y_train = pd.read_pickle('./data/{}/y_train.pkl'.format(feat_val))\n",
    "        y_test = pd.read_pickle('./data/{}/y_test.pkl'.format(feat_val))\n",
    "        #obj = pickle.load(open('./data/{}/obj.pkl'.format(feat_val), 'rb'))\n",
    "        \n",
    "        for clf_key, clf in clfs.items():\n",
    "            print(feat_key)\n",
    "            print(clf_key)\n",
    "            start_time = time.time()\n",
    "            clf_fit = clf.fit(X_train, y_train)\n",
    "            print('Score: ', clf_fit.score(X_test, y_test))        \n",
    "            print(\"--- %s minutes ---\" % round((time.time() - start_time)/60, 2))\n",
    "            print()\n",
    "        print()\n"
   ]
  },
  {
   "cell_type": "code",
   "execution_count": 85,
   "metadata": {},
   "outputs": [
    {
     "name": "stdout",
     "output_type": "stream",
     "text": [
      "Topics, Small\n",
      "Logistic Reg 0\n",
      "Score:  0.6654854712969526\n",
      "--- 0.01 minutes ---\n",
      "\n",
      "Topics, Small\n",
      "Logistic Reg 1\n",
      "Score:  0.6669029057406095\n",
      "--- 0.02 minutes ---\n",
      "\n",
      "Topics, Small\n",
      "Logistic Reg 2\n",
      "Score:  0.6654854712969526\n",
      "--- 0.0 minutes ---\n",
      "\n",
      "Topics, Small\n",
      "Logistic Reg 3\n",
      "Score:  0.6697377746279235\n",
      "--- 0.0 minutes ---\n",
      "\n",
      "Topics, Small\n",
      "Logistic Reg 4\n",
      "Score:  0.669619655090952\n",
      "--- 0.0 minutes ---\n",
      "\n",
      "Topics, Small\n",
      "Logistic Reg 5\n",
      "Score:  0.6697377746279235\n",
      "--- 0.02 minutes ---\n",
      "\n",
      "Topics, Small\n",
      "Logistic Reg 6\n",
      "Score:  0.6697377746279235\n",
      "--- 0.0 minutes ---\n",
      "\n",
      "Topics, Small\n",
      "Logistic Reg 7\n",
      "Score:  0.6658398299078667\n",
      "--- 0.02 minutes ---\n",
      "\n",
      "Topics, Small\n",
      "Logistic Reg 8\n",
      "Score:  0.669619655090952\n",
      "--- 0.0 minutes ---\n",
      "\n",
      "\n",
      "Topics, Large\n",
      "Logistic Reg 0\n",
      "Score:  0.6750531537916371\n",
      "--- 0.0 minutes ---\n",
      "\n",
      "Topics, Large\n",
      "Logistic Reg 1\n",
      "Score:  0.6755256319395228\n",
      "--- 0.0 minutes ---\n",
      "\n",
      "Topics, Large\n",
      "Logistic Reg 2\n",
      "Score:  0.6750531537916371\n",
      "--- 0.0 minutes ---\n",
      "\n",
      "Topics, Large\n",
      "Logistic Reg 3\n",
      "Score:  0.6776517836050082\n",
      "--- 0.0 minutes ---\n",
      "\n",
      "Topics, Large\n",
      "Logistic Reg 4\n",
      "Score:  0.6729270021261516\n",
      "--- 0.0 minutes ---\n",
      "\n",
      "Topics, Large\n",
      "Logistic Reg 5\n",
      "Score:  0.6776517836050082\n",
      "--- 0.0 minutes ---\n",
      "\n",
      "Topics, Large\n",
      "Logistic Reg 6\n",
      "Score:  0.6776517836050082\n",
      "--- 0.0 minutes ---\n",
      "\n",
      "Topics, Large\n",
      "Logistic Reg 7\n",
      "Score:  0.6680841011103237\n",
      "--- 0.0 minutes ---\n",
      "\n",
      "Topics, Large\n",
      "Logistic Reg 8\n",
      "Score:  0.6729270021261516\n",
      "--- 0.0 minutes ---\n",
      "\n",
      "\n",
      "Sentiments, Small\n",
      "Logistic Reg 0\n",
      "Score:  0.5277580911882825\n",
      "--- 0.0 minutes ---\n",
      "\n",
      "Sentiments, Small\n",
      "Logistic Reg 1\n",
      "Score:  0.5276399716513112\n",
      "--- 0.0 minutes ---\n",
      "\n",
      "Sentiments, Small\n",
      "Logistic Reg 2\n",
      "Score:  0.5277580911882825\n",
      "--- 0.0 minutes ---\n",
      "\n",
      "Sentiments, Small\n",
      "Logistic Reg 3\n",
      "Score:  0.5204346798960549\n",
      "--- 0.01 minutes ---\n",
      "\n",
      "Sentiments, Small\n",
      "Logistic Reg 4\n",
      "Score:  0.5309473186865108\n",
      "--- 0.0 minutes ---\n",
      "\n",
      "Sentiments, Small\n",
      "Logistic Reg 5\n",
      "Score:  0.520198440822112\n",
      "--- 0.0 minutes ---\n",
      "\n",
      "Sentiments, Small\n",
      "Logistic Reg 6\n",
      "Score:  0.5204346798960549\n",
      "--- 0.01 minutes ---\n",
      "\n",
      "Sentiments, Small\n",
      "Logistic Reg 7\n",
      "Score:  0.5278762107252539\n",
      "--- 0.0 minutes ---\n",
      "\n",
      "Sentiments, Small\n",
      "Logistic Reg 8\n",
      "Score:  0.5309473186865108\n",
      "--- 0.0 minutes ---\n",
      "\n",
      "\n"
     ]
    }
   ],
   "source": [
    "run_models(feat_types, clfs)"
   ]
  },
  {
   "cell_type": "code",
   "execution_count": 74,
   "metadata": {},
   "outputs": [
    {
     "data": {
      "text/plain": [
       "(19749, 302)"
      ]
     },
     "execution_count": 74,
     "metadata": {},
     "output_type": "execute_result"
    }
   ],
   "source": [
    "X_train.shape"
   ]
  },
  {
   "cell_type": "code",
   "execution_count": 75,
   "metadata": {},
   "outputs": [
    {
     "data": {
      "text/plain": [
       "(8465, 302)"
      ]
     },
     "execution_count": 75,
     "metadata": {},
     "output_type": "execute_result"
    }
   ],
   "source": [
    "X_test.shape"
   ]
  },
  {
   "cell_type": "code",
   "execution_count": 76,
   "metadata": {},
   "outputs": [
    {
     "data": {
      "text/plain": [
       "(19753,)"
      ]
     },
     "execution_count": 76,
     "metadata": {},
     "output_type": "execute_result"
    }
   ],
   "source": [
    "y_train.shape"
   ]
  },
  {
   "cell_type": "code",
   "execution_count": 77,
   "metadata": {},
   "outputs": [
    {
     "data": {
      "text/plain": [
       "(8466,)"
      ]
     },
     "execution_count": 77,
     "metadata": {},
     "output_type": "execute_result"
    }
   ],
   "source": [
    "y_test.shape"
   ]
  },
  {
   "cell_type": "code",
   "execution_count": 78,
   "metadata": {},
   "outputs": [
    {
     "data": {
      "text/plain": [
       "4"
      ]
     },
     "execution_count": 78,
     "metadata": {},
     "output_type": "execute_result"
    }
   ],
   "source": [
    "19753-19749"
   ]
  },
  {
   "cell_type": "code",
   "execution_count": 42,
   "metadata": {},
   "outputs": [],
   "source": [
    "# Import processed data: see data_preprocessing folder for details\n",
    "with open('../data_preprocessing/data/svo_df.pkl', 'rb') as f:\n",
    "    df = pickle.load(f)"
   ]
  },
  {
   "cell_type": "code",
   "execution_count": 43,
   "metadata": {},
   "outputs": [
    {
     "data": {
      "text/plain": [
       "(28219, 11)"
      ]
     },
     "execution_count": 43,
     "metadata": {},
     "output_type": "execute_result"
    }
   ],
   "source": [
    "df.shape"
   ]
  },
  {
   "cell_type": "code",
   "execution_count": 45,
   "metadata": {},
   "outputs": [
    {
     "data": {
      "text/plain": [
       "28219"
      ]
     },
     "execution_count": 45,
     "metadata": {},
     "output_type": "execute_result"
    }
   ],
   "source": [
    "19753 + 8466"
   ]
  },
  {
   "cell_type": "code",
   "execution_count": null,
   "metadata": {},
   "outputs": [],
   "source": []
  },
  {
   "cell_type": "code",
   "execution_count": null,
   "metadata": {},
   "outputs": [],
   "source": []
  },
  {
   "cell_type": "code",
   "execution_count": null,
   "metadata": {},
   "outputs": [],
   "source": []
  },
  {
   "cell_type": "code",
   "execution_count": null,
   "metadata": {},
   "outputs": [],
   "source": []
  }
 ],
 "metadata": {
  "kernelspec": {
   "display_name": "Python 3",
   "language": "python",
   "name": "python3"
  },
  "language_info": {
   "codemirror_mode": {
    "name": "ipython",
    "version": 3
   },
   "file_extension": ".py",
   "mimetype": "text/x-python",
   "name": "python",
   "nbconvert_exporter": "python",
   "pygments_lexer": "ipython3",
   "version": "3.6.4"
  }
 },
 "nbformat": 4,
 "nbformat_minor": 2
}
